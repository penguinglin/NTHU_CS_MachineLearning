{
 "cells": [
  {
   "cell_type": "code",
   "execution_count": 1,
   "metadata": {},
   "outputs": [],
   "source": [
    "import os\n",
    "import warnings\n",
    "warnings.filterwarnings(\"ignore\")\n",
    "os.environ['TF_CPP_MIN_LOG_LEVEL'] = '2' \n",
    "\n",
    "import tensorflow as tf\n",
    "gpus = tf.config.experimental.list_physical_devices('GPU')\n",
    "if gpus:\n",
    "    try:\n",
    "        # Currently, memory growth needs to be the same across GPUs\n",
    "        for gpu in gpus:\n",
    "            tf.config.experimental.set_memory_growth(gpu, True)\n",
    "        tf.config.experimental.set_visible_devices(gpus[0], 'GPU')\n",
    "        logical_gpus = tf.config.experimental.list_logical_devices('GPU')\n",
    "        print(len(gpus), \"Physical GPUs,\", len(logical_gpus), \"Logical GPUs\")\n",
    "    except RuntimeError as e:\n",
    "        # Memory growth must be set before GPUs have been initialized\n",
    "        print(e)\n",
    "        \n",
    "        \n",
    "# IMAGE_SIZE = 224 #EfficientNetB0, DenseNet121\n",
    "IMAGE_SIZE = 448 # EfficientNetV2M"
   ]
  },
  {
   "cell_type": "code",
   "execution_count": 2,
   "metadata": {},
   "outputs": [],
   "source": [
    "# You'll generate plots of attention in order to see which parts of an image\n",
    "# our model focuses on during captioning\n",
    "import matplotlib.pyplot as plt\n",
    "\n",
    "# Scikit-learn includes many helpful utilities\n",
    "# from sklearn.model_selection import train_test_split\n",
    "# from sklearn.utils import shuffle\n",
    "\n",
    "import re\n",
    "import numpy as np\n",
    "import os\n",
    "import time\n",
    "import json\n",
    "from glob import glob\n",
    "from PIL import Image\n",
    "import pickle"
   ]
  },
  {
   "cell_type": "code",
   "execution_count": 3,
   "metadata": {},
   "outputs": [],
   "source": [
    "datasets=['./offline-train.pkl','./train_caption.txt']\n",
    "valid_datasets=['./offline-test.pkl', './test_caption.txt']\n",
    "dictionaries=['./dictionary.txt']\n",
    "batch_Imagesize=500000\n",
    "valid_batch_Imagesize=500000\n",
    "# batch_size for training and testing\n",
    "batch_size=32\n",
    "# the max (label length/Image size) in training and testing\n",
    "# you can change 'maxlen','maxImagesize' by the size of your GPU\n",
    "maxlen=48\n",
    "maxImagesize= 100000\n",
    "# hidden_size in RNN\n",
    "hidden_size = 256\n",
    "# teacher_forcing_ratio \n",
    "teacher_forcing_ratio = 1\n",
    "\n",
    "AUG = False\n",
    "AUG_NUM = 5"
   ]
  },
  {
   "cell_type": "markdown",
   "metadata": {},
   "source": [
    "Data Augmentation"
   ]
  },
  {
   "cell_type": "code",
   "execution_count": 4,
   "metadata": {},
   "outputs": [],
   "source": [
    "# import albumentations as A\n",
    "from tqdm import tqdm\n",
    "import cv2"
   ]
  },
  {
   "cell_type": "markdown",
   "metadata": {},
   "source": [
    "Construct dictionaries"
   ]
  },
  {
   "cell_type": "code",
   "execution_count": 5,
   "metadata": {},
   "outputs": [
    {
     "name": "stdout",
     "output_type": "stream",
     "text": [
      "total words/phones 112\n",
      "total words/phones 112\n"
     ]
    }
   ],
   "source": [
    "fp=open(dictionaries[0])\n",
    "\n",
    "symbol_index={}\n",
    "\n",
    "for line in fp.readlines():\n",
    "    words = line.strip().split()\n",
    "    symbol_index[words[0]]=int(words[1])  # word->index\n",
    "\n",
    "fp.close()\n",
    "\n",
    "print('total words/phones',len(symbol_index))\n",
    "\n",
    "index_symbol={}\n",
    "for k,v in symbol_index.items():\n",
    "    index_symbol[v]=k  # index->word\n",
    "    \n",
    "print('total words/phones',len(index_symbol))\n"
   ]
  },
  {
   "cell_type": "code",
   "execution_count": 6,
   "metadata": {},
   "outputs": [
    {
     "name": "stdout",
     "output_type": "stream",
     "text": [
      "total labels 8835\n",
      "caption_list[0] ['f', '(', 'x', ')', '=', '\\\\sum', '_', '{', 'n', '=', '-', '\\\\infty', '}', '^', '{', '\\\\infty', '}', 'a', '_', '{', 'n', '}', '=', 'x', '^', '{', '\\\\alpha', '_', '{', 'n', '}', '}']\n"
     ]
    }
   ],
   "source": [
    "label_fp = open(datasets[1], 'r')\n",
    "labels = label_fp.readlines()\n",
    "label_fp.close()\n",
    "label_num = len(labels)\n",
    "print('total labels',label_num)\n",
    "\n",
    "caption_list = []\n",
    "\n",
    "for i in range(label_num):\n",
    "\n",
    "    label = labels[i].strip().split()\n",
    "    file_id = label[0]\n",
    "    label = label[1:]\n",
    "    caption_list.append(label)\n",
    "        \n",
    "# caption_list = np.array(caption_list)\n",
    "print('caption_list[0]',caption_list[0])"
   ]
  },
  {
   "cell_type": "code",
   "execution_count": 7,
   "metadata": {},
   "outputs": [
    {
     "name": "stdout",
     "output_type": "stream",
     "text": [
      "./off_image_train/formulaire004-equation047_0.jpg\n",
      "<start> f ( x ) = \\sum _ { n = - \\infty } ^ { \\infty } a _ { n } = x ^ { \\alpha _ { n } } <end>\n"
     ]
    }
   ],
   "source": [
    "img_name_list = []\n",
    "# caption_list = []\n",
    "i = 0\n",
    "with open('./train_caption.txt') as fh:\n",
    "    for line in fh:\n",
    "        image_name = line.strip().split()[0]\n",
    "        caption = caption_list[i]\n",
    "        img_name_list.append(f'./off_image_train/{image_name}_0.jpg')\n",
    "        caption_list[i] = ('<start> ' + ' '.join(caption) + ' <end>')\n",
    "        i += 1\n",
    "        \n",
    "# Only first 120,000 images have labels\n",
    "\n",
    "# test_img_name = set(glob(f'./words_captcha/*.png')) - set(img_name_list)\n",
    "# img_name_list += sorted(test_img_name)\n",
    "\n",
    "print(img_name_list[0])\n",
    "print(caption_list[0]) "
   ]
  },
  {
   "cell_type": "code",
   "execution_count": 8,
   "metadata": {},
   "outputs": [
    {
     "name": "stdout",
     "output_type": "stream",
     "text": [
      "<start> f ( x ) = \\sum _ { n = - \\infty } ^ { \\infty } a _ { n } = x ^ { \\alpha _ { n } } <end>\n",
      "[ 4 30 13 10 14 16 39 11  2 19 16 12 53  3  8  2 53  3 17 11  2 19  3 16\n",
      " 10  8  2 52 11  2 19  3  3  5  0  0  0  0  0  0  0  0  0  0  0  0  0  0]\n",
      "48\n"
     ]
    }
   ],
   "source": [
    "tokenizer = tf.keras.preprocessing.text.Tokenizer(oov_token='', filters=' ')\n",
    "# tokenizer = tf.keras.preprocessing.text.Tokenizer(oov_token='')\n",
    "tokenizer.fit_on_texts(caption_list)\n",
    "caption_seq = tokenizer.texts_to_sequences(caption_list)\n",
    "\n",
    "# iterate over the whole dataset if its caption over 48 words, remove it\n",
    "\n",
    "tmp_image_name_list = []\n",
    "tmp_caption_seq = []\n",
    "\n",
    "for i in range(len(caption_seq)):\n",
    "    if len(caption_seq[i]) <= 48:\n",
    "        tmp_image_name_list.append(img_name_list[i])\n",
    "        tmp_caption_seq.append(caption_seq[i])\n",
    "\n",
    "img_name_list = tmp_image_name_list\n",
    "caption_seq = tmp_caption_seq\n",
    "\n",
    "caption_seq = tf.keras.preprocessing.sequence.pad_sequences(caption_seq, padding='post')\n",
    "max_length = len(caption_seq[0])\n",
    "\n",
    "print(caption_list[0])\n",
    "print(caption_seq[0])\n",
    "print (max_length)"
   ]
  },
  {
   "cell_type": "code",
   "execution_count": 9,
   "metadata": {},
   "outputs": [
    {
     "name": "stdout",
     "output_type": "stream",
     "text": [
      "caption_seq_train[0] [ 4 30 13 10 14 16 39 11  2 19 16 12 53  3  8  2 53  3 17 11  2 19  3 16\n",
      " 10  8  2 52 11  2 19  3  3  5  0  0  0  0  0  0  0  0  0  0  0  0  0  0]\n",
      "img_name_train[0] ./off_image_train/formulaire004-equation047_0.jpg\n"
     ]
    }
   ],
   "source": [
    "img_name_train = img_name_list[:6500]\n",
    "img_name_valid = img_name_list[6500:]\n",
    "\n",
    "caption_seq_train = caption_seq[:6500]\n",
    "caption_seq_valid = caption_seq[6500:]\n",
    "\n",
    "# img_name_test = img_name_list[120000:]\n",
    "# caption_seq_test = caption_seq[120000:]\n",
    "\n",
    "# print the first caption and image name\n",
    "print('caption_seq_train[0]',caption_seq_train[0])\n",
    "print('img_name_train[0]',img_name_train[0])\n"
   ]
  },
  {
   "cell_type": "code",
   "execution_count": 10,
   "metadata": {},
   "outputs": [
    {
     "name": "stdout",
     "output_type": "stream",
     "text": [
      "not exist ./off_image_train/formulaire004-equation047_0.jpg\n"
     ]
    }
   ],
   "source": [
    "import os\n",
    "for i in range(len(img_name_train)):\n",
    "    if not os.path.exists(img_name_train[i]):\n",
    "        print('not exist',img_name_train[i])\n",
    "        break"
   ]
  },
  {
   "cell_type": "code",
   "execution_count": 11,
   "metadata": {},
   "outputs": [],
   "source": [
    "BATCH_SIZE = 16 # 100 is a suck number\n",
    "BUFFER_SIZE = 1000\n",
    "embedding_dim = 256\n",
    "units = 512\n",
    "vocab_size = len(tokenizer.word_index) + 1\n",
    "num_steps = len(img_name_train) // BATCH_SIZE"
   ]
  },
  {
   "cell_type": "code",
   "execution_count": 12,
   "metadata": {},
   "outputs": [],
   "source": [
    "def load_image(image_path, caption):\n",
    "    img = tf.io.read_file(image_path)\n",
    "    img = tf.image.decode_jpeg(img, channels=3)\n",
    "    # img = tf.image.resize(img, (IMAGE_SIZE, IMAGE_SIZE))\n",
    "    # Let's try to use padding instead of resize\n",
    "    img = tf.image.resize_with_pad(img, IMAGE_SIZE, IMAGE_SIZE)\n",
    "    \n",
    "    # plt.imshow(img)\n",
    "    # plt.show()\n",
    "    \n",
    "    # image = tf.keras.applications.densenet.preprocess_input(img)\n",
    "    # image = tf.keras.applications.efficientnet.preprocess_input(img)\n",
    "    image = tf.keras.applications.efficientnet_v2.preprocess_input(img)\n",
    "    return image, caption"
   ]
  },
  {
   "cell_type": "code",
   "execution_count": 13,
   "metadata": {},
   "outputs": [],
   "source": [
    "dataset_train = tf.data.Dataset.from_tensor_slices((img_name_train, caption_seq_train))\\\n",
    "                               .map(load_image, num_parallel_calls=tf.data.experimental.AUTOTUNE)\\\n",
    "                               .shuffle(BUFFER_SIZE)\\\n",
    "                               .batch(BATCH_SIZE, drop_remainder=True)\\\n",
    "                               .prefetch(tf.data.experimental.AUTOTUNE)\n",
    "\n",
    "dataset_valid = tf.data.Dataset.from_tensor_slices((img_name_valid, caption_seq_valid))\\\n",
    "                               .map(load_image, num_parallel_calls=tf.data.experimental.AUTOTUNE)\\\n",
    "                               .batch(BATCH_SIZE, drop_remainder=True)\\\n",
    "                               .prefetch(tf.data.experimental.AUTOTUNE)"
   ]
  },
  {
   "cell_type": "code",
   "execution_count": 14,
   "metadata": {},
   "outputs": [],
   "source": [
    "image_model = tf.keras.applications.EfficientNetV2M(include_top=False,\n",
    "                                                weights='imagenet')\n",
    "# image_model = tf.keras.applications.DenseNet121(include_top=False,\n",
    "#                                                 weights='imagenet')\n",
    "new_input = image_model.input\n",
    "hidden_layer = image_model.layers[-1].output\n",
    "\n",
    "feature_extractor = tf.keras.Model(new_input, hidden_layer)"
   ]
  },
  {
   "cell_type": "code",
   "execution_count": 15,
   "metadata": {},
   "outputs": [],
   "source": [
    "class BahdanauAttention(tf.keras.Model):\n",
    "    def __init__(self, units):\n",
    "        super(BahdanauAttention, self).__init__()\n",
    "        self.W1 = tf.keras.layers.Dense(units)\n",
    "        self.W2 = tf.keras.layers.Dense(units)\n",
    "        self.V = tf.keras.layers.Dense(1)\n",
    "\n",
    "    def call(self, features, hidden):\n",
    "        # features(CNN_encoder output) shape == (batch_size, 64, embedding_dim)\n",
    "\n",
    "        # hidden shape == (batch_size, hidden_size)\n",
    "        # hidden_with_time_axis shape == (batch_size, 1, hidden_size)\n",
    "        hidden_with_time_axis = tf.expand_dims(hidden, 1)\n",
    "\n",
    "        # score shape == (batch_size, 64, hidden_size)\n",
    "        score = tf.nn.tanh(self.W1(features) + self.W2(hidden_with_time_axis))\n",
    "\n",
    "        # attention_weights shape == (batch_size, 64, 1)\n",
    "        # you get 1 at the last axis because you are applying score to self.V\n",
    "        attention_weights = tf.nn.softmax(self.V(score), axis=1)\n",
    "\n",
    "        # context_vector shape after sum == (batch_size, hidden_size)\n",
    "        context_vector = attention_weights * features\n",
    "        context_vector = tf.reduce_sum(context_vector, axis=1)\n",
    "\n",
    "        return context_vector, attention_weights"
   ]
  },
  {
   "cell_type": "code",
   "execution_count": 16,
   "metadata": {},
   "outputs": [],
   "source": [
    "class CNN_Encoder(tf.keras.Model):\n",
    "    # Since you have already extracted the features and dumped it using pickle\n",
    "    # This encoder passes those features through a Fully connected layer\n",
    "    def __init__(self, embedding_dim):\n",
    "        super(CNN_Encoder, self).__init__()\n",
    "        # shape after fc == (batch_size, 64, embedding_dim)\n",
    "        self.fc = tf.keras.layers.Dense(embedding_dim)\n",
    "\n",
    "    def call(self, x):\n",
    "        x = self.fc(x)\n",
    "        x = tf.nn.relu(x)\n",
    "        return x"
   ]
  },
  {
   "cell_type": "code",
   "execution_count": 17,
   "metadata": {},
   "outputs": [],
   "source": [
    "# class RNN_Decoder(tf.keras.Model):\n",
    "#     def __init__(self, embedding_dim, units, vocab_size):\n",
    "#         super(RNN_Decoder, self).__init__()\n",
    "#         self.units = units\n",
    "\n",
    "#         self.embedding = tf.keras.layers.Embedding(vocab_size, embedding_dim)\n",
    "#         self.lstm = tf.keras.layers.LSTM(self.units,\n",
    "#                                          return_sequences=True,\n",
    "#                                          return_state=True,\n",
    "#                                          recurrent_initializer='glorot_uniform')\n",
    "#         self.fc1 = tf.keras.layers.Dense(self.units)\n",
    "#         self.fc2 = tf.keras.layers.Dense(vocab_size)\n",
    "\n",
    "#         self.attention = BahdanauAttention(self.units)\n",
    "\n",
    "#     def call(self, x, features, hidden):\n",
    "#         # defining attention as a separate model\n",
    "#         context_vector, attention_weights = self.attention(features, hidden[0])\n",
    "\n",
    "#         # x shape after passing through embedding == (batch_size, 1, embedding_dim)\n",
    "#         x = self.embedding(x)\n",
    "\n",
    "#         # x shape after concatenation == (batch_size, 1, embedding_dim + hidden_size)\n",
    "#         x = tf.concat([tf.expand_dims(context_vector, 1), x], axis=-1)\n",
    "\n",
    "#         # passing the concatenated vector to the LSTM\n",
    "#         output, state_h, state_c = self.lstm(x, initial_state=hidden)\n",
    "\n",
    "#         # shape == (batch_size, max_length, hidden_size)\n",
    "#         x = self.fc1(output)\n",
    "\n",
    "#         # x shape == (batch_size * max_length, hidden_size)\n",
    "#         x = tf.reshape(x, (-1, x.shape[2]))\n",
    "\n",
    "#         # output shape == (batch_size * max_length, vocab)\n",
    "#         x = self.fc2(x)\n",
    "\n",
    "#         return x, [state_h, state_c], attention_weights\n",
    "\n",
    "#     def reset_state(self, batch_size):\n",
    "#         return [tf.zeros((batch_size, self.units)), tf.zeros((batch_size, self.units))]"
   ]
  },
  {
   "cell_type": "code",
   "execution_count": 18,
   "metadata": {},
   "outputs": [],
   "source": [
    "class RNN_Decoder(tf.keras.Model):\n",
    "    def __init__(self, embedding_dim, units, vocab_size):\n",
    "        super(RNN_Decoder, self).__init__()\n",
    "        self.units = units\n",
    "\n",
    "        self.embedding = tf.keras.layers.Embedding(vocab_size, embedding_dim)\n",
    "        self.gru1 = tf.keras.layers.GRU(self.units,\n",
    "                                        return_sequences=True,\n",
    "                                        return_state=True,\n",
    "                                        recurrent_initializer='glorot_uniform')\n",
    "        self.gru2 = tf.keras.layers.GRU(self.units,\n",
    "                                        return_sequences=True,\n",
    "                                        return_state=True,\n",
    "                                        recurrent_initializer='glorot_uniform')\n",
    "        self.fc1 = tf.keras.layers.Dense(self.units)\n",
    "        self.fc2 = tf.keras.layers.Dense(vocab_size)\n",
    "        self.dropout = tf.keras.layers.Dropout(0.1)\n",
    "\n",
    "        self.attention = BahdanauAttention(self.units)\n",
    "\n",
    "    def call(self, x, features, hidden):\n",
    "        # defining attention as a separate model\n",
    "        context_vector, attention_weights = self.attention(features, hidden[0])\n",
    "\n",
    "        # x shape after passing through embedding == (batch_size, 1, embedding_dim)\n",
    "        x = self.embedding(x)\n",
    "\n",
    "        # x shape after concatenation == (batch_size, 1, embedding_dim + hidden_size)\n",
    "        x = tf.concat([tf.expand_dims(context_vector, 1), x], axis=-1)\n",
    "\n",
    "        # passing the concatenated vector to the first GRU\n",
    "        output, state = self.gru1(x, initial_state=hidden)\n",
    "\n",
    "        # passing the output of the first GRU to the second GRU\n",
    "        output, state = self.gru2(output, initial_state=state)\n",
    "\n",
    "        # shape == (batch_size, max_length, hidden_size)\n",
    "        x = self.fc1(output)\n",
    "\n",
    "        # applying dropout\n",
    "        x = self.dropout(x)\n",
    "\n",
    "        # x shape == (batch_size * max_length, hidden_size)\n",
    "        x = tf.reshape(x, (-1, x.shape[2]))\n",
    "\n",
    "        # output shape == (batch_size * max_length, vocab)\n",
    "        x = self.fc2(x)\n",
    "\n",
    "        return x, [state], attention_weights\n",
    "\n",
    "    def reset_state(self, batch_size):\n",
    "        return [tf.zeros((batch_size, self.units))]"
   ]
  },
  {
   "cell_type": "code",
   "execution_count": 19,
   "metadata": {},
   "outputs": [],
   "source": [
    "encoder = CNN_Encoder(embedding_dim)\n",
    "decoder = RNN_Decoder(embedding_dim, units, vocab_size)"
   ]
  },
  {
   "cell_type": "code",
   "execution_count": 20,
   "metadata": {},
   "outputs": [],
   "source": [
    "optimizer = tf.keras.optimizers.Adam(learning_rate=1e-4)\n",
    "loss_object = tf.keras.losses.SparseCategoricalCrossentropy(\n",
    "    from_logits=True, reduction='none')\n",
    "\n",
    "def loss_function(real, pred):\n",
    "    mask = tf.math.logical_not(tf.math.equal(real, 0))\n",
    "    loss_ = loss_object(real, pred)\n",
    "\n",
    "    mask = tf.cast(mask, dtype=loss_.dtype)\n",
    "    loss_ *= mask\n",
    "\n",
    "    return tf.reduce_mean(loss_)"
   ]
  },
  {
   "cell_type": "code",
   "execution_count": 21,
   "metadata": {},
   "outputs": [],
   "source": [
    "checkpoint_path = r\"C:\\Users\\a2004\\Downloads\\ML_portable\\checkpoints\\train\"\n",
    "ckpt = tf.train.Checkpoint(feature_extractor=feature_extractor,\n",
    "                           encoder=encoder,\n",
    "                           decoder=decoder,\n",
    "                           optimizer = optimizer)\n",
    "ckpt_manager = tf.train.CheckpointManager(ckpt, checkpoint_path, max_to_keep=3)"
   ]
  },
  {
   "cell_type": "code",
   "execution_count": 22,
   "metadata": {},
   "outputs": [
    {
     "data": {
      "text/plain": [
       "'C:\\\\Users\\\\a2004\\\\Downloads\\\\ML_portable\\\\checkpoints\\\\train\\\\ckpt-49'"
      ]
     },
     "execution_count": 22,
     "metadata": {},
     "output_type": "execute_result"
    }
   ],
   "source": [
    "start_epoch = 0\n",
    "if ckpt_manager.latest_checkpoint:\n",
    "    start_epoch = int(ckpt_manager.latest_checkpoint.split('-')[-1])\n",
    "\n",
    "ckpt_manager.restore_or_initialize()"
   ]
  },
  {
   "cell_type": "code",
   "execution_count": 23,
   "metadata": {},
   "outputs": [],
   "source": [
    "# adding this in a separate cell because if you run the training cell\n",
    "# many times, the loss_plot array will be reset\n",
    "loss_plot = []\n",
    "valid_plot = []"
   ]
  },
  {
   "cell_type": "code",
   "execution_count": 24,
   "metadata": {},
   "outputs": [],
   "source": [
    "@tf.function\n",
    "def train_step(img_tensor, target):\n",
    "    loss = 0\n",
    "    # tf.compat.v1.enable_eager_execution()\n",
    "    \n",
    "    # plt.imshow(img_tensor[0].numpy())\n",
    "    # plt.show()\n",
    "\n",
    "    # initializing the hidden state for each batch\n",
    "    # because the captions are not related from image to image\n",
    "    batch_size = img_tensor.shape[0]\n",
    "    dec_input = tf.expand_dims([tokenizer.word_index['<start>']] * batch_size, 1)\n",
    "    hidden = decoder.reset_state(batch_size=batch_size)\n",
    "\n",
    "    with tf.GradientTape() as tape:\n",
    "        #  Instead of prestore the features into npy file, we called the feature_extractor directly (Easier to implement lol)\n",
    "        features = feature_extractor(img_tensor, True)\n",
    "        features = tf.reshape(features, (features.shape[0], -1, features.shape[3]))\n",
    "        features = encoder(features)\n",
    "\n",
    "        for i in range(1, target.shape[1]):\n",
    "            # passing the features through the decoder\n",
    "            predictions, hidden, _ = decoder(dec_input, features, hidden)\n",
    "\n",
    "            loss += loss_function(target[:, i], predictions)\n",
    "\n",
    "            # using teacher forcing\n",
    "            dec_input = tf.expand_dims(target[:, i], 1)\n",
    "\n",
    "    total_loss = (loss / int(target.shape[1]))\n",
    "\n",
    "    trainable_variables = encoder.trainable_variables + decoder.trainable_variables\n",
    "\n",
    "    gradients = tape.gradient(loss, trainable_variables)\n",
    "\n",
    "    optimizer.apply_gradients(zip(gradients, trainable_variables))\n",
    "\n",
    "    return loss, total_loss"
   ]
  },
  {
   "cell_type": "code",
   "execution_count": 25,
   "metadata": {},
   "outputs": [],
   "source": [
    "from tqdm import tqdm"
   ]
  },
  {
   "cell_type": "code",
   "execution_count": 26,
   "metadata": {},
   "outputs": [],
   "source": [
    "def predict(img_tensor):\n",
    "    batch_size = img_tensor.shape[0]\n",
    "    \n",
    "    dec_input = tf.expand_dims([tokenizer.word_index['<start>']] * batch_size, 1)\n",
    "\n",
    "    hidden = decoder.reset_state(batch_size=batch_size)\n",
    "    \n",
    "    features = feature_extractor(img_tensor)\n",
    "    features = tf.reshape(features, (features.shape[0], -1, features.shape[3]))\n",
    "    features = encoder(features)\n",
    "\n",
    "\n",
    "    result = tf.expand_dims([tokenizer.word_index['<start>']] * batch_size, 1)\n",
    "    \n",
    "    for i in range(max_length):\n",
    "        predictions, hidden, _ = decoder(dec_input, features, hidden)\n",
    "        \n",
    "        predicted_id = tf.argmax(predictions, axis=1).numpy()\n",
    "        dec_input = tf.expand_dims(predicted_id, 1)\n",
    "        result = tf.concat([result, predicted_id.reshape((batch_size, 1))], axis=1)\n",
    "\n",
    "    return result"
   ]
  },
  {
   "cell_type": "code",
   "execution_count": 27,
   "metadata": {},
   "outputs": [],
   "source": [
    "def build_output(args):\n",
    "    results = []\n",
    "    for i in args:\n",
    "        result = \"\"\n",
    "        for s in i[1:]:\n",
    "            if s == tokenizer.word_index[\"<end>\"]:\n",
    "                break\n",
    "            else :\n",
    "                result += (tokenizer.index_word[s] + \" \")\n",
    "        results.append(result)\n",
    "    return results"
   ]
  },
  {
   "cell_type": "code",
   "execution_count": 28,
   "metadata": {},
   "outputs": [],
   "source": [
    "def evaluate(dataset_valid):\n",
    "    total = 0\n",
    "    correct = 0\n",
    "    for img_tensor, target in dataset_valid:\n",
    "        \n",
    "        pred_list = build_output(predict(img_tensor).numpy())\n",
    "        real_list = build_output(target.numpy())\n",
    "        \n",
    "        total += min(len(pred_list), len(real_list))\n",
    "        correct += sum([1 for pred, real in zip(pred_list, real_list) if pred == real]) \n",
    "        \n",
    "        # if(pred_list == real_list):\n",
    "        #     correct += 1\n",
    "        # total += 1\n",
    "\n",
    "    return correct / total"
   ]
  },
  {
   "cell_type": "code",
   "execution_count": 29,
   "metadata": {},
   "outputs": [
    {
     "name": "stdout",
     "output_type": "stream",
     "text": [
      "Time taken for 0 epoch 0.0 sec\n",
      "\n"
     ]
    },
    {
     "data": {
      "text/plain": [
       "'\\n'"
      ]
     },
     "execution_count": 29,
     "metadata": {},
     "output_type": "execute_result"
    }
   ],
   "source": [
    "EPOCHS = 200\n",
    "EPOCHS = 0\n",
    "start = time.time()\n",
    "\n",
    "max_accuracy = 0.0\n",
    "\n",
    "for epoch in range(start_epoch, EPOCHS):\n",
    "    \n",
    "    total_loss = 0\n",
    "\n",
    "    for (batch, (img_tensor, target)) in tqdm(enumerate(dataset_train), total=num_steps):\n",
    "        batch_loss, t_loss = train_step(img_tensor, target)\n",
    "        total_loss += t_loss\n",
    "\n",
    "    loss_plot.append(total_loss / num_steps)\n",
    "    \n",
    "    accuracy = evaluate(dataset_valid)\n",
    "    valid_plot.append(accuracy)\n",
    "    \n",
    "    if accuracy > max_accuracy:\n",
    "        max_accuracy = accuracy\n",
    "        ckpt_manager.save()\n",
    "\n",
    "    print ('Epoch {} Loss {:.6f} Valid {:.3f} History Valid {:.3f}'.format(epoch + 1,\n",
    "                                         total_loss/num_steps, accuracy, max_accuracy))\n",
    "    \n",
    "    if(accuracy >= 0.90):\n",
    "        break\n",
    "    \n",
    "print ('Time taken for {} epoch {} sec\\n'.format(EPOCHS, time.time() - start))\n",
    "'''\n",
    "'''"
   ]
  },
  {
   "cell_type": "code",
   "execution_count": 30,
   "metadata": {},
   "outputs": [
    {
     "data": {
      "image/png": "[encoded data removed]",
      "text/plain": [
       "<Figure size 640x480 with 1 Axes>"
      ]
     },
     "metadata": {},
     "output_type": "display_data"
    }
   ],
   "source": [
    "plt.plot(loss_plot, label='Training Loss')\n",
    "plt.plot(valid_plot, label='Validation Accuracy')\n",
    "plt.xlabel('Epochs')\n",
    "plt.ylabel('Value')\n",
    "plt.title('Training Loss and Validation Accuracy')\n",
    "plt.legend()\n",
    "plt.show()"
   ]
  },
  {
   "cell_type": "markdown",
   "metadata": {},
   "source": [
    "#### Validation"
   ]
  },
  {
   "cell_type": "markdown",
   "metadata": {},
   "source": [
    "#### Predictions over test set"
   ]
  },
  {
   "cell_type": "code",
   "execution_count": 31,
   "metadata": {},
   "outputs": [],
   "source": [
    "# ckpt = tf.train.Checkpoint(feature_extractor=feature_extractor,\n",
    "#                            encoder=encoder,\n",
    "#                            decoder=decoder,\n",
    "#                            optimizer=optimizer)"
   ]
  },
  {
   "cell_type": "code",
   "execution_count": 32,
   "metadata": {},
   "outputs": [],
   "source": [
    "# ckpt.restore('./checkpoints/train/ckpt-33')"
   ]
  },
  {
   "cell_type": "code",
   "execution_count": 34,
   "metadata": {},
   "outputs": [],
   "source": [
    "# score = evaluate(dataset_valid)\n",
    "# print(f'Final Validation Accuracy: {score:.3f}')"
   ]
  },
  {
   "cell_type": "code",
   "execution_count": 35,
   "metadata": {},
   "outputs": [],
   "source": [
    "def map_test(image_path):\n",
    "    img = tf.io.read_file(image_path)\n",
    "    img = tf.image.decode_jpeg(img, channels=3)\n",
    "    img = tf.image.resize(img, (IMAGE_SIZE, IMAGE_SIZE))\n",
    "    # img = tf.keras.applications.inception_v3.preprocess_input(img)\n",
    "    image = tf.keras.applications.efficientnet_v2.preprocess_input(img)\n",
    "    return image, image_path"
   ]
  },
  {
   "cell_type": "code",
   "execution_count": 36,
   "metadata": {},
   "outputs": [],
   "source": [
    "img_name_test = [\"./2+4.jpg\"]"
   ]
  },
  {
   "cell_type": "code",
   "execution_count": 37,
   "metadata": {},
   "outputs": [],
   "source": [
    "dataset_test = tf.data.Dataset.from_tensor_slices((img_name_test))\\\n",
    "                              .map(map_test, num_parallel_calls=tf.data.experimental.AUTOTUNE)\\\n",
    "                              .batch(BATCH_SIZE)\\\n",
    "                              .prefetch(tf.data.experimental.AUTOTUNE)"
   ]
  },
  {
   "cell_type": "markdown",
   "metadata": {},
   "source": [
    "output text prediction"
   ]
  },
  {
   "cell_type": "code",
   "execution_count": 38,
   "metadata": {},
   "outputs": [
    {
     "name": "stderr",
     "output_type": "stream",
     "text": [
      "100%|██████████| 1/1 [00:02<00:00,  2.65s/it]"
     ]
    },
    {
     "name": "stdout",
     "output_type": "stream",
     "text": [
      "b'./2+4.jpg'\n",
      " \\int \\sin \\beta d x \n",
      "Predictions:\n"
     ]
    },
    {
     "name": "stderr",
     "output_type": "stream",
     "text": [
      "\n"
     ]
    },
    {
     "data": {
      "text/latex": [
       "$\\int \\sin \\beta d x $"
      ],
      "text/plain": [
       "<IPython.core.display.Latex object>"
      ]
     },
     "execution_count": 38,
     "metadata": {},
     "output_type": "execute_result"
    }
   ],
   "source": [
    "from IPython.display import Latex\n",
    "\n",
    "ans = []\n",
    "\n",
    "with open('./output.txt', 'w') as fh:\n",
    "    for img_tensor, img_path in tqdm(dataset_test):\n",
    "        pred_list = build_output(predict(img_tensor).numpy())\n",
    "        for path, pred in zip(img_path, pred_list):\n",
    "            # img_name = re.search(r'(\\w+)\\._0.jpg', path.numpy().decode()).group(1)\n",
    "            img_name = path\n",
    "            fh.write(f'{img_name} {pred}\\n')\n",
    "            print(f'{img_name}\\n {pred}')\n",
    "            ans.append(pred)\n",
    "            \n",
    "# Latex(\"$\" + r\"\\frac{a}{\\sin x}+\\frac{p}{b^{x}}\" + \"$\")\n",
    "print(\"Predictions:\")\n",
    "Latex(\"$\" + pred + \"$\")"
   ]
  },
  {
   "cell_type": "code",
   "execution_count": 39,
   "metadata": {},
   "outputs": [],
   "source": [
    "from IPython.display import Latex\n",
    "\n",
    "# Latex(\"$\" + r\"\\frac{a}{\\sin9}=\\frac{b}{\\sin4}\" + \"$\")"
   ]
  },
  {
   "cell_type": "markdown",
   "metadata": {},
   "source": [
    "Draw Attention gif"
   ]
  },
  {
   "cell_type": "code",
   "execution_count": 40,
   "metadata": {},
   "outputs": [],
   "source": [
    "image_features_extract_model = tf.keras.applications.EfficientNetV2M(include_top=False,\n",
    "                                                weights='imagenet')\n",
    "attention_features_shape = 196\n",
    "\n",
    "def evaluate_1(img_path):\n",
    "    \n",
    "    batch_size = 1\n",
    "    \n",
    "    attention_plot = np.zeros((max_length, attention_features_shape))\n",
    "    \n",
    "    dec_input = tf.expand_dims([tokenizer.word_index['<start>']] * batch_size, 1)\n",
    "\n",
    "    hidden = decoder.reset_state(batch_size=batch_size)\n",
    "    \n",
    "    features = feature_extractor(img_tensor)\n",
    "    features = tf.reshape(features, (features.shape[0], -1, features.shape[3]))\n",
    "    features = encoder(features)\n",
    "\n",
    "\n",
    "    result = tf.expand_dims([tokenizer.word_index['<start>']] * batch_size, 1)\n",
    "    \n",
    "    for i in range(max_length):\n",
    "        predictions, hidden, attention_weights = decoder(dec_input, features, hidden)\n",
    "        \n",
    "        attention_plot[i] = tf.reshape(attention_weights, (-1, )).numpy()\n",
    "        \n",
    "        predicted_id = tf.argmax(predictions, axis=1).numpy()\n",
    "        dec_input = tf.expand_dims(predicted_id, 1)\n",
    "        result = tf.concat([result, predicted_id.reshape((batch_size, 1))], axis=1)\n",
    "        \n",
    "    attention_plot = attention_plot[:len(result[0]), :]\n",
    "\n",
    "    return result, attention_plot"
   ]
  },
  {
   "cell_type": "code",
   "execution_count": 41,
   "metadata": {},
   "outputs": [
    {
     "name": "stdout",
     "output_type": "stream",
     "text": [
      "Prediction Caption: [ 4 43 33 63 27 10  5  5  5  5  5  5  5  5  5  5  5  5  5  5  5  5  5  5\n",
      "  5  5  5  5  5  5  5  5  5  5  5  5  5  5  5  5  5  5  5  5  5  5  5  5\n",
      "  5]\n",
      "Prediction Caption: ['\\\\int', '\\\\sin', '\\\\beta', 'd', 'x']\n"
     ]
    }
   ],
   "source": [
    "result, attention_plot = evaluate_1(img_name_test[0])\n",
    "\n",
    "# print('Prediction Caption:', (result[0]))\n",
    "\n",
    "# transform sysbol to latex\n",
    "\n",
    "result = result[0].numpy()\n",
    "string = []\n",
    "\n",
    "print('Prediction Caption:', (result))\n",
    "\n",
    "for i in range(len(result)):\n",
    "    if result[i] == tokenizer.word_index['<end>']:\n",
    "        string.append(tokenizer.index_word[result[i]])\n",
    "        break\n",
    "    # print(tokenizer.index_word[result[i]], end=' ')\n",
    "    string.append(tokenizer.index_word[result[i]])\n",
    "\n",
    "string = string[1:-1]\n",
    "print('Prediction Caption:', string)"
   ]
  },
  {
   "cell_type": "code",
   "execution_count": 42,
   "metadata": {},
   "outputs": [
    {
     "ename": "ModuleNotFoundError",
     "evalue": "No module named 'imageio'",
     "output_type": "error",
     "traceback": [
      "\u001b[1;31m---------------------------------------------------------------------------\u001b[0m",
      "\u001b[1;31mModuleNotFoundError\u001b[0m                       Traceback (most recent call last)",
      "Cell \u001b[1;32mIn[42], line 1\u001b[0m\n\u001b[1;32m----> 1\u001b[0m \u001b[38;5;28;01mimport\u001b[39;00m \u001b[38;5;21;01mimageio\u001b[39;00m\n\u001b[0;32m      3\u001b[0m \u001b[38;5;66;03m# def plot_attention(image, result, attention_plot):\u001b[39;00m\n\u001b[0;32m      4\u001b[0m \u001b[38;5;66;03m#     temp_image = np.array(Image.open(image))\u001b[39;00m\n\u001b[0;32m      5\u001b[0m \n\u001b[1;32m   (...)\u001b[0m\n\u001b[0;32m     20\u001b[0m \n\u001b[0;32m     21\u001b[0m \u001b[38;5;66;03m# plot_attention(img_name_test[0], string, attention_plot)\u001b[39;00m\n\u001b[0;32m     23\u001b[0m \u001b[38;5;28;01mdef\u001b[39;00m \u001b[38;5;21mgenerate_gif\u001b[39m(image_path, result, attention_plot, gif_path\u001b[38;5;241m=\u001b[39m\u001b[38;5;124m'\u001b[39m\u001b[38;5;124mattention.gif\u001b[39m\u001b[38;5;124m'\u001b[39m):\n",
      "\u001b[1;31mModuleNotFoundError\u001b[0m: No module named 'imageio'"
     ]
    }
   ],
   "source": [
    "import imageio\n",
    "\n",
    "# def plot_attention(image, result, attention_plot):\n",
    "#     temp_image = np.array(Image.open(image))\n",
    "\n",
    "#     fig = plt.figure(figsize=(100, 100))\n",
    "\n",
    "#     len_result = len(result)\n",
    "#     for l in range(len_result):\n",
    "#         temp_att = np.resize(attention_plot[l], (10, 10))\n",
    "#         ax = fig.add_subplot(len_result//2, len_result//2, l+1)\n",
    "#         ax.set_title(result[l])\n",
    "#         img = ax.imshow(temp_image)\n",
    "#         ax.imshow(temp_att, cmap='gray', alpha=0.6, extent=img.get_extent())\n",
    "\n",
    "#     plt.tight_layout()\n",
    "#     plt.show()\n",
    "    \n",
    "# plt.imshow(np.array(Image.open(img_name_test[0])))\n",
    "\n",
    "# plot_attention(img_name_test[0], string, attention_plot)\n",
    "\n",
    "def generate_gif(image_path, result, attention_plot, gif_path='attention.gif'):\n",
    "    temp_image = np.array(Image.open(image_path))\n",
    "    frames = []\n",
    "\n",
    "    len_result = len(result)\n",
    "    for l in range(len_result):\n",
    "        fig, ax = plt.subplots(figsize=(10, 10))\n",
    "        temp_att = np.resize(attention_plot[l], (8, 8))\n",
    "        ax.set_title(result[l])\n",
    "        img = ax.imshow(temp_image)\n",
    "        ax.imshow(temp_att, cmap='gray', alpha=0.6, extent=img.get_extent())\n",
    "        plt.axis('off')\n",
    "\n",
    "        # Save the current frame\n",
    "        fig.canvas.draw()\n",
    "        frame = np.frombuffer(fig.canvas.tostring_rgb(), dtype='uint8')\n",
    "        frame = frame.reshape(fig.canvas.get_width_height()[::-1] + (3,))\n",
    "        frames.append(frame)\n",
    "        plt.close(fig)\n",
    "\n",
    "    # Save frames as a gif\n",
    "    imageio.mimsave(gif_path, frames, fps=5)\n",
    "\n",
    "generate_gif(img_name_test[0], string, attention_plot)\n",
    "# display the gif\n",
    "from IPython.display import Image\n",
    "Image(filename='attention.gif')\n"
   ]
  }
 ],
 "metadata": {
  "kernelspec": {
   "display_name": "Python 3",
   "language": "python",
   "name": "python3"
  },
  "language_info": {
   "codemirror_mode": {
    "name": "ipython",
    "version": 3
   },
   "file_extension": ".py",
   "mimetype": "text/x-python",
   "name": "python",
   "nbconvert_exporter": "python",
   "pygments_lexer": "ipython3",
   "version": "3.9.5"
  }
 },
 "nbformat": 4,
 "nbformat_minor": 2
}
